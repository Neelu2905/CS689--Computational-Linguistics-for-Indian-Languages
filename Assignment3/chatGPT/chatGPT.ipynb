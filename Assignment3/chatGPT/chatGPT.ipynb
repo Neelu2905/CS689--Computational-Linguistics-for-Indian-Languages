{
  "nbformat": 4,
  "nbformat_minor": 0,
  "metadata": {
    "colab": {
      "provenance": []
    },
    "kernelspec": {
      "name": "python3",
      "display_name": "Python 3"
    },
    "language_info": {
      "name": "python"
    }
  },
  "cells": [
    {
      "cell_type": "markdown",
      "source": [
        "**QUESTION 2:- BLEU AND ROGUE SCORES OF ALL TRANSLATIONS BY indicTRANS**"
      ],
      "metadata": {
        "id": "T_HhcMKFf8Ka"
      }
    },
    {
      "cell_type": "code",
      "execution_count": 4,
      "metadata": {
        "colab": {
          "base_uri": "https://localhost:8080/"
        },
        "id": "oMg8u8szep34",
        "outputId": "5869a0ee-44a7-4a39-907b-efb99cf9d177"
      },
      "outputs": [
        {
          "output_type": "stream",
          "name": "stdout",
          "text": [
            "Requirement already satisfied: sacrebleu in /usr/local/lib/python3.10/dist-packages (2.4.2)\n",
            "Requirement already satisfied: portalocker in /usr/local/lib/python3.10/dist-packages (from sacrebleu) (2.8.2)\n",
            "Requirement already satisfied: regex in /usr/local/lib/python3.10/dist-packages (from sacrebleu) (2023.12.25)\n",
            "Requirement already satisfied: tabulate>=0.8.9 in /usr/local/lib/python3.10/dist-packages (from sacrebleu) (0.9.0)\n",
            "Requirement already satisfied: numpy>=1.17 in /usr/local/lib/python3.10/dist-packages (from sacrebleu) (1.25.2)\n",
            "Requirement already satisfied: colorama in /usr/local/lib/python3.10/dist-packages (from sacrebleu) (0.4.6)\n",
            "Requirement already satisfied: lxml in /usr/local/lib/python3.10/dist-packages (from sacrebleu) (4.9.4)\n",
            "Requirement already satisfied: rouge_score in /usr/local/lib/python3.10/dist-packages (0.1.2)\n",
            "Requirement already satisfied: absl-py in /usr/local/lib/python3.10/dist-packages (from rouge_score) (1.4.0)\n",
            "Requirement already satisfied: nltk in /usr/local/lib/python3.10/dist-packages (from rouge_score) (3.8.1)\n",
            "Requirement already satisfied: numpy in /usr/local/lib/python3.10/dist-packages (from rouge_score) (1.25.2)\n",
            "Requirement already satisfied: six>=1.14.0 in /usr/local/lib/python3.10/dist-packages (from rouge_score) (1.16.0)\n",
            "Requirement already satisfied: click in /usr/local/lib/python3.10/dist-packages (from nltk->rouge_score) (8.1.7)\n",
            "Requirement already satisfied: joblib in /usr/local/lib/python3.10/dist-packages (from nltk->rouge_score) (1.4.0)\n",
            "Requirement already satisfied: regex>=2021.8.3 in /usr/local/lib/python3.10/dist-packages (from nltk->rouge_score) (2023.12.25)\n",
            "Requirement already satisfied: tqdm in /usr/local/lib/python3.10/dist-packages (from nltk->rouge_score) (4.66.2)\n"
          ]
        }
      ],
      "source": [
        "!pip install sacrebleu\n",
        "!pip install rouge_score"
      ]
    },
    {
      "cell_type": "code",
      "source": [
        "!pip install rouge"
      ],
      "metadata": {
        "colab": {
          "base_uri": "https://localhost:8080/"
        },
        "id": "imbrxsMUsfnO",
        "outputId": "73112434-4edf-4f4e-8197-e9388898acdd"
      },
      "execution_count": 5,
      "outputs": [
        {
          "output_type": "stream",
          "name": "stdout",
          "text": [
            "Requirement already satisfied: rouge in /usr/local/lib/python3.10/dist-packages (1.0.1)\n",
            "Requirement already satisfied: six in /usr/local/lib/python3.10/dist-packages (from rouge) (1.16.0)\n"
          ]
        }
      ]
    },
    {
      "cell_type": "code",
      "source": [
        "from rouge import Rouge\n",
        "from nltk.translate.bleu_score import corpus_bleu\n",
        "\n",
        "def load_sentences(file_path):\n",
        "    with open(file_path, 'r', encoding='utf-8') as f:\n",
        "        sentences = [line.strip() for line in f if line.strip()]\n",
        "    return sentences\n",
        "\n",
        "def calculate_scores(reference_file, translated_file):\n",
        "    # Load sentences from files\n",
        "    reference_sentences = load_sentences(reference_file)\n",
        "    translated_sentences = load_sentences(translated_file)\n",
        "\n",
        "    # Initialize ROUGE\n",
        "    rouge = Rouge()\n",
        "\n",
        "    # Calculate ROUGE scores\n",
        "    rouge_scores = rouge.get_scores(translated_sentences, reference_sentences, avg=True)\n",
        "\n",
        "    # Calculate BLEU score\n",
        "    bleu_score = corpus_bleu([[ref] for ref in reference_sentences], translated_sentences)\n",
        "\n",
        "    return rouge_scores, bleu_score\n",
        "\n",
        "def print_scores(rouge_scores, bleu_score):\n",
        "    print(\"ROUGE Scores:\")\n",
        "    for metric, values in rouge_scores.items():\n",
        "        print(f\"{metric}:\")\n",
        "        for key, value in values.items():\n",
        "            print(f\"{key}: {value}\")\n",
        "    print(\"BLEU Score:\", bleu_score)"
      ],
      "metadata": {
        "id": "m8VRyqcHgml6"
      },
      "execution_count": 6,
      "outputs": []
    },
    {
      "cell_type": "markdown",
      "source": [
        "**FOR ENGLISH TO HINDI**"
      ],
      "metadata": {
        "id": "zBvyTKjwgr7v"
      }
    },
    {
      "cell_type": "code",
      "source": [
        "# Example usage:\n",
        "input_file = \"test.hi_100.txt\"\n",
        "output_file = \"chatgpt_eng_to_hin.txt\"\n",
        "\n",
        "# Calculate scores\n",
        "rouge_scores, bleu_score = calculate_scores(input_file, output_file)\n",
        "\n",
        "# Print scores\n",
        "print_scores(rouge_scores, bleu_score)"
      ],
      "metadata": {
        "colab": {
          "base_uri": "https://localhost:8080/"
        },
        "id": "D_eFzwoogomZ",
        "outputId": "d45c9dc9-744a-4398-b0d4-4568d5f7b7c8"
      },
      "execution_count": 7,
      "outputs": [
        {
          "output_type": "stream",
          "name": "stdout",
          "text": [
            "ROUGE Scores:\n",
            "rouge-1:\n",
            "r: 0.5233651144494275\n",
            "p: 0.5549458207422198\n",
            "f: 0.534411759911741\n",
            "rouge-2:\n",
            "r: 0.2906069734460578\n",
            "p: 0.3040811738489409\n",
            "f: 0.29471983800942403\n",
            "rouge-l:\n",
            "r: 0.48377628770025966\n",
            "p: 0.5086612214854404\n",
            "f: 0.4921473783509021\n",
            "BLEU Score: 0.6021075411885106\n"
          ]
        }
      ]
    },
    {
      "cell_type": "markdown",
      "source": [
        "****FOR HINDI TO ENGLISH****"
      ],
      "metadata": {
        "id": "G4A-XkAlhXBs"
      }
    },
    {
      "cell_type": "code",
      "source": [
        "# Example usage:\n",
        "input_file = \"test.en_100.txt\"\n",
        "output_file = \"chatgpt_hin_to_eng.txt\"\n",
        "\n",
        "# Calculate scores\n",
        "rouge_scores, bleu_score = calculate_scores(input_file, output_file)\n",
        "\n",
        "# Print scores\n",
        "print_scores(rouge_scores, bleu_score)"
      ],
      "metadata": {
        "colab": {
          "base_uri": "https://localhost:8080/"
        },
        "id": "ONLvJXwehWji",
        "outputId": "c2ea63a2-a09c-44c8-ff19-128fd8be623e"
      },
      "execution_count": 8,
      "outputs": [
        {
          "output_type": "stream",
          "name": "stdout",
          "text": [
            "ROUGE Scores:\n",
            "rouge-1:\n",
            "r: 0.7756314051226327\n",
            "p: 0.7946025182795945\n",
            "f: 0.7828875654188898\n",
            "rouge-2:\n",
            "r: 0.6438798137110392\n",
            "p: 0.6554244359756742\n",
            "f: 0.6479524435635742\n",
            "rouge-l:\n",
            "r: 0.7481099609653086\n",
            "p: 0.7663721743578132\n",
            "f: 0.7553112601161088\n",
            "BLEU Score: 0.8318640473554315\n"
          ]
        }
      ]
    },
    {
      "cell_type": "markdown",
      "source": [
        "**FOR HINDI TO MARATHI**"
      ],
      "metadata": {
        "id": "uvcE3cuh94zX"
      }
    },
    {
      "cell_type": "code",
      "source": [
        "# Example usage:\n",
        "input_file = \"test.mr_100.txt\"\n",
        "output_file = \"chatgpt_hin_to_mar.txt\"\n",
        "\n",
        "# Calculate scores\n",
        "rouge_scores, bleu_score = calculate_scores(input_file, output_file)\n",
        "\n",
        "# Print scores\n",
        "print_scores(rouge_scores, bleu_score)"
      ],
      "metadata": {
        "colab": {
          "base_uri": "https://localhost:8080/"
        },
        "id": "GvXqb7yW94WH",
        "outputId": "e1fdb09e-d0b8-45ba-e310-06748aea7253"
      },
      "execution_count": 9,
      "outputs": [
        {
          "output_type": "stream",
          "name": "stdout",
          "text": [
            "ROUGE Scores:\n",
            "rouge-1:\n",
            "r: 0.31117307074851813\n",
            "p: 0.3232613435183094\n",
            "f: 0.313708864011215\n",
            "rouge-2:\n",
            "r: 0.1176444859021417\n",
            "p: 0.12180796796083176\n",
            "f: 0.11844703944322145\n",
            "rouge-l:\n",
            "r: 0.2840205010959485\n",
            "p: 0.2950764328407517\n",
            "f: 0.28646455956076006\n",
            "BLEU Score: 0.5126514588699214\n"
          ]
        }
      ]
    },
    {
      "cell_type": "markdown",
      "source": [
        "**FOR MARATHI TO HINDI**"
      ],
      "metadata": {
        "id": "AMofhoaXABcx"
      }
    },
    {
      "cell_type": "code",
      "source": [
        "# Example usage:\n",
        "input_file = \"test.hi_100.txt\"\n",
        "output_file = \"chatgpt_mar_to_hin.txt\"\n",
        "\n",
        "# Calculate scores\n",
        "rouge_scores, bleu_score = calculate_scores(input_file, output_file)\n",
        "\n",
        "# Print scores\n",
        "print_scores(rouge_scores, bleu_score)"
      ],
      "metadata": {
        "colab": {
          "base_uri": "https://localhost:8080/"
        },
        "id": "BsBj1g-lAF0D",
        "outputId": "3ead29ec-d365-41c2-d4ec-87a680e179b8"
      },
      "execution_count": 15,
      "outputs": [
        {
          "output_type": "stream",
          "name": "stdout",
          "text": [
            "ROUGE Scores:\n",
            "rouge-1:\n",
            "r: 0.602929845589998\n",
            "p: 0.6222393317385311\n",
            "f: 0.6073591689708325\n",
            "rouge-2:\n",
            "r: 0.4021685124464836\n",
            "p: 0.41155851118349707\n",
            "f: 0.4033469580315313\n",
            "rouge-l:\n",
            "r: 0.557264301897987\n",
            "p: 0.5723772448637542\n",
            "f: 0.56035257085593\n",
            "BLEU Score: 0.6591325750493927\n"
          ]
        }
      ]
    }
  ]
}